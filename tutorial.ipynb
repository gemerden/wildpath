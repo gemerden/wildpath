{
 "cells": [
  {
   "cell_type": "markdown",
   "id": "powered-concert",
   "metadata": {},
   "source": [
    "**This is a short tutorial of the wildpath library"
   ]
  },
  {
   "cell_type": "markdown",
   "id": "dynamic-spice",
   "metadata": {},
   "source": [
    "The purpose of wildpath is to simplify accessing data in complex data structures, like mixes of nested mappings, sequences and objects."
   ]
  },
  {
   "cell_type": "markdown",
   "id": "plain-symphony",
   "metadata": {},
   "source": [
    "There are 2 classes to do this: `Path`and `WildPath`; the first is to access single items in the data structure, the second uses wildcards, slices and boolean logic to access multiple of the data structure. Access in this case means get, set, delete and e.g. call methods."
   ]
  },
  {
   "cell_type": "markdown",
   "id": "fleet-auckland",
   "metadata": {},
   "source": [
    "Let's construct and use the most simple cases of the `Path` class:"
   ]
  },
  {
   "cell_type": "code",
   "execution_count": 7,
   "id": "painted-buyer",
   "metadata": {},
   "outputs": [
    {
     "name": "stdout",
     "output_type": "stream",
     "text": [
      "True\n",
      "True\n"
     ]
    }
   ],
   "source": [
    "from wildpath import Path\n",
    "\n",
    "path1 = Path('a')\n",
    "path2 = Path('1')\n",
    "\n",
    "print(path1.get_in({'a': 1}) == 1)\n",
    "print(path2.get_in([2, 4]) == 4)"
   ]
  },
  {
   "cell_type": "markdown",
   "id": "common-rehabilitation",
   "metadata": {},
   "source": [
    "So far, we have a complicated way to do "
   ]
  },
  {
   "cell_type": "code",
   "execution_count": null,
   "id": "assumed-combination",
   "metadata": {},
   "outputs": [],
   "source": []
  },
  {
   "cell_type": "code",
   "execution_count": null,
   "id": "aging-beach",
   "metadata": {},
   "outputs": [],
   "source": [
    "Note that `str(some_path)` returns the path used in the constructor, so `some_path_string == str(Path(some_path_string))`"
   ]
  }
 ],
 "metadata": {
  "kernelspec": {
   "display_name": "Python 3",
   "language": "python",
   "name": "python3"
  },
  "language_info": {
   "codemirror_mode": {
    "name": "ipython",
    "version": 3
   },
   "file_extension": ".py",
   "mimetype": "text/x-python",
   "name": "python",
   "nbconvert_exporter": "python",
   "pygments_lexer": "ipython3",
   "version": "3.7.2"
  },
  "toc-showcode": false,
  "toc-showmarkdowntxt": false
 },
 "nbformat": 4,
 "nbformat_minor": 5
}
